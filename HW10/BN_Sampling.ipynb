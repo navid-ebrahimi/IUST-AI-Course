{
 "cells": [
  {
   "cell_type": "markdown",
   "metadata": {
    "collapsed": false,
    "pycharm": {
     "name": "#%% md\n"
    }
   },
   "source": [
    "## Imports"
   ]
  },
  {
   "cell_type": "code",
   "execution_count": 73,
   "metadata": {
    "collapsed": false,
    "pycharm": {
     "name": "#%%\n"
    }
   },
   "outputs": [],
   "source": [
    "import os\n",
    "import json\n",
    "import numpy as np\n",
    "import matplotlib.pyplot as plt"
   ]
  },
  {
   "cell_type": "code",
   "execution_count": 74,
   "metadata": {
    "collapsed": false,
    "pycharm": {
     "name": "#%%\n"
    }
   },
   "outputs": [],
   "source": [
    "IN_PATH = \".\\inputs\"\n",
    "OUT_PATH = \".\\outputs\""
   ]
  },
  {
   "cell_type": "markdown",
   "metadata": {
    "collapsed": false,
    "pycharm": {
     "name": "#%% md\n"
    }
   },
   "source": [
    "## Utility Functions"
   ]
  },
  {
   "cell_type": "code",
   "execution_count": 75,
   "metadata": {
    "collapsed": false,
    "pycharm": {
     "name": "#%%\n"
    }
   },
   "outputs": [],
   "source": [
    "def find_dependence(graph, graph2, is_ancestor, evidence, node1, node2):\n",
    "    path = [[node1, True]]\n",
    "    dependent_nodes = [False] * len(graph)\n",
    "    visited = [False] * (2 * len(graph))\n",
    "    while len(path) != 0:\n",
    "        node, direction = path.pop()\n",
    "        if direction:\n",
    "            visited_index = node + len(graph)\n",
    "        else:\n",
    "            visited_index = node\n",
    "        if not visited[visited_index]:\n",
    "            visited[visited_index] = True\n",
    "            if evidence[node] == -1:\n",
    "                dependent_nodes[node] = True\n",
    "            else:\n",
    "                dependent_nodes[node] = False\n",
    "            if direction and evidence[node] == -1:\n",
    "                for k in graph2[node]:\n",
    "                    path.append([k, True])\n",
    "                for k in graph[node]:\n",
    "                    path.append([k, False])\n",
    "            if not direction:\n",
    "                if evidence[node] == -1:\n",
    "                    for k in graph[node]:\n",
    "                        path.append([k, False])\n",
    "                if is_ancestor[node]:\n",
    "                    for k in graph2[node]:\n",
    "                        path.append([k, True])\n",
    "    return dependent_nodes[node2]"
   ]
  },
  {
   "cell_type": "code",
   "execution_count": 76,
   "metadata": {
    "collapsed": false,
    "pycharm": {
     "name": "#%%\n"
    }
   },
   "outputs": [],
   "source": [
    "def mult(cpt1, cpt2):\n",
    "    cpt = []\n",
    "    keys1 = cpt1[0].keys()\n",
    "    keys2 = cpt2[0].keys()\n",
    "    share_keys = []\n",
    "    not_share_keys = []\n",
    "    for key in keys1:\n",
    "        if key in keys2 and key != 'Prob':\n",
    "            share_keys.append(key)\n",
    "        else:\n",
    "            not_share_keys.append(key)\n",
    "    for row1 in cpt1:\n",
    "        for row2 in cpt2:\n",
    "            flag = 1\n",
    "            for key in share_keys:\n",
    "                if row1[key] != row2[key]:\n",
    "                    flag = 0\n",
    "            if flag == 0:\n",
    "                continue\n",
    "            new_row = row2.copy()\n",
    "            for key in not_share_keys:\n",
    "                if key != 'Prob':\n",
    "                    new_row[key] = row1[key]\n",
    "                else:\n",
    "                    new_row['Prob'] = row1['Prob'] * row2['Prob']\n",
    "            cpt.append(new_row)\n",
    "    return cpt"
   ]
  },
  {
   "cell_type": "code",
   "execution_count": 77,
   "metadata": {
    "collapsed": false,
    "pycharm": {
     "name": "#%%\n"
    }
   },
   "outputs": [],
   "source": [
    "def find_joint(probability):\n",
    "    cpt = probability[0]\n",
    "    for i in range(1, len(probability)):\n",
    "        cpt = mult(cpt, probability[i])\n",
    "    return cpt"
   ]
  },
  {
   "cell_type": "code",
   "execution_count": 78,
   "metadata": {
    "collapsed": false,
    "pycharm": {
     "name": "#%%\n"
    }
   },
   "outputs": [],
   "source": [
    "def elimination(joint, node):\n",
    "    del_cpt = []\n",
    "    id_tracker = {}\n",
    "    for row2 in joint:\n",
    "        row = row2.copy()\n",
    "        id_string = \"\"\n",
    "        for key in row.keys():\n",
    "            if key == node or key == \"Prob\":\n",
    "                continue\n",
    "            if row[key]:\n",
    "                id_string += \"T\"\n",
    "            else:\n",
    "                id_string += \"F\"\n",
    "        if id_string in id_tracker.keys():\n",
    "            id_tracker[id_string]['Prob'] += row['Prob']\n",
    "        else:\n",
    "            id_tracker[id_string] = row\n",
    "    for key in id_tracker.keys():\n",
    "        row = id_tracker[key]\n",
    "        del row[node]\n",
    "        del_cpt.append(row.copy())\n",
    "    return del_cpt"
   ]
  },
  {
   "cell_type": "code",
   "execution_count": 79,
   "metadata": {
    "collapsed": false,
    "pycharm": {
     "name": "#%%\n"
    }
   },
   "outputs": [],
   "source": [
    "def variable_elimination(evidence, nodes, probability, values):\n",
    "    new_probability = probability\n",
    "    for i in range(len(probability)):\n",
    "        if i in nodes or evidence[i] != -1:\n",
    "            continue\n",
    "        after_joint_prob = []\n",
    "        joint_prob = []\n",
    "        for cpt in new_probability:\n",
    "            if i in cpt[0].keys():\n",
    "                joint_prob.append(cpt)\n",
    "            else:\n",
    "                after_joint_prob.append(cpt)\n",
    "        joint = find_joint(joint_prob)\n",
    "        new_probability = after_joint_prob\n",
    "        new_probability.append(elimination(joint, i))\n",
    "    final_joint = find_joint(new_probability)\n",
    "    sum_prob = 0\n",
    "    holder = 0\n",
    "    for joint in final_joint:\n",
    "        sum_prob += joint['Prob']\n",
    "        flag = 1\n",
    "        for k in range(len(nodes)):\n",
    "            if joint[nodes[k]] != bool(values[k]):\n",
    "                flag = 0\n",
    "                break\n",
    "        if flag == 1:\n",
    "            holder = joint['Prob']\n",
    "    return holder / sum_prob"
   ]
  },
  {
   "cell_type": "code",
   "execution_count": 80,
   "metadata": {
    "collapsed": false,
    "pycharm": {
     "name": "#%%\n"
    }
   },
   "outputs": [],
   "source": [
    "def topological_sort_util(v, visited, stack, graph):\n",
    "    visited[v] = True\n",
    "    for i in graph[v]:\n",
    "        if not visited[i]:\n",
    "            topological_sort_util(i, visited, stack, graph)\n",
    "\n",
    "    stack.append(v)\n",
    "\n",
    "def topological_sort(graph):\n",
    "    visited = [False] * len(graph)\n",
    "    stack = []\n",
    "\n",
    "    for i in range(len(graph)):\n",
    "        if not visited[i]:\n",
    "            topological_sort_util(i, visited, stack, graph)\n",
    "    return stack[::-1]"
   ]
  },
  {
   "cell_type": "code",
   "execution_count": 81,
   "metadata": {
    "collapsed": false,
    "pycharm": {
     "name": "#%%\n"
    }
   },
   "outputs": [],
   "source": [
    "def sample_vertex(node, father, values, sort_vertex, probability):\n",
    "    cpt = probability[node]\n",
    "    holder_row = {}\n",
    "    for row in cpt:\n",
    "        flag = 1\n",
    "        for key in row.keys():\n",
    "            if key != 'Prob' and values[key] != -1 and row[key] != values[key]:\n",
    "                flag = 0\n",
    "                break\n",
    "        if flag == 1:\n",
    "            holder_row = row.copy()\n",
    "            break\n",
    "    x = holder_row['Prob']\n",
    "    random = np.random.random()\n",
    "    if random < x:\n",
    "        return True\n",
    "    return False"
   ]
  },
  {
   "cell_type": "code",
   "execution_count": 82,
   "metadata": {
    "collapsed": false,
    "pycharm": {
     "name": "#%%\n"
    }
   },
   "outputs": [],
   "source": [
    "def draw_plot(prior, reject, likelihood, gibbs, string_data, num):\n",
    "    X = [1, 2, 3, 4, 5, 6, 7]\n",
    "\n",
    "    # Plotting both the curves simultaneously\n",
    "    plt.plot(X, prior, color='r', label='Prior')\n",
    "    plt.plot(X, reject, color='g', label='Rejection')\n",
    "    plt.plot(X, likelihood, color='b', label='Likelihood')\n",
    "    plt.plot(X, gibbs, color='y', label='Gibbs')\n",
    "\n",
    "    plt.xlabel(\"#Q\")\n",
    "    plt.ylabel(\"AE\")\n",
    "    plt.title(string_data)\n",
    "    plt.legend()\n",
    "    path = OUT_PATH\n",
    "    path = os.path.join(path, str(num) + \".png\")\n",
    "    plt.savefig(path)\n",
    "    plt.show()"
   ]
  },
  {
   "cell_type": "markdown",
   "metadata": {
    "collapsed": false,
    "pycharm": {
     "name": "#%% md\n"
    }
   },
   "source": [
    "## Real Value"
   ]
  },
  {
   "cell_type": "code",
   "execution_count": 83,
   "metadata": {
    "collapsed": false,
    "pycharm": {
     "name": "#%%\n"
    }
   },
   "outputs": [],
   "source": [
    "def real_value(evidence, probability, nodes, values, graph3):\n",
    "    new_probability = []\n",
    "    for i in range(len(probability)):\n",
    "        cpt = []\n",
    "        for row in probability[i]:\n",
    "            if row[i] != evidence[i] and evidence[i] != -1:\n",
    "                continue\n",
    "            flag = 1\n",
    "            for j in graph3[i]:\n",
    "                if row[j] != evidence[j] and evidence[j] != -1:\n",
    "                    flag = 0\n",
    "            if flag:\n",
    "                cpt.append(row)\n",
    "        new_probability.append(cpt)\n",
    "    return variable_elimination(evidence.copy(), nodes, new_probability.copy(), values)"
   ]
  },
  {
   "cell_type": "markdown",
   "metadata": {
    "collapsed": false,
    "pycharm": {
     "name": "#%% md\n"
    }
   },
   "source": [
    "## 1. Prior Sampling"
   ]
  },
  {
   "cell_type": "code",
   "execution_count": 84,
   "metadata": {
    "collapsed": false,
    "pycharm": {
     "name": "#%%\n"
    }
   },
   "outputs": [],
   "source": [
    "def prior_sample(evidence, nodes, values, probability, n, graph, graph2):\n",
    "    sort_vertex = topological_sort(graph)\n",
    "    samples = []\n",
    "    for i in range(10000):\n",
    "        value = [-1] * n\n",
    "        for vertex in sort_vertex:\n",
    "            value[vertex] = sample_vertex(vertex, graph2[vertex], value, sort_vertex, probability)\n",
    "        flag = 1\n",
    "        for j in range(len(evidence)):\n",
    "            if evidence[j] != -1 and value[j] != evidence[j]:\n",
    "                flag = 0\n",
    "                break\n",
    "        if flag == 1:\n",
    "            samples.append(value)\n",
    "    good_sample = 0\n",
    "    for sample in samples:\n",
    "        flag = 1\n",
    "        for i in range(len(nodes)):\n",
    "            if bool(values[i]) != sample[nodes[i]]:\n",
    "                flag = 0\n",
    "                break\n",
    "        if flag == 1:\n",
    "            good_sample += 1\n",
    "    return good_sample / len(samples)"
   ]
  },
  {
   "cell_type": "markdown",
   "metadata": {
    "collapsed": false,
    "pycharm": {
     "name": "#%% md\n"
    }
   },
   "source": [
    "## 2. Rejection Sampling"
   ]
  },
  {
   "cell_type": "code",
   "execution_count": 85,
   "metadata": {
    "collapsed": false,
    "pycharm": {
     "name": "#%%\n"
    }
   },
   "outputs": [],
   "source": [
    "def rejection_sample(evidence, nodes, values, probability, n, graph, graph2):\n",
    "    sort_vertex = topological_sort(graph)\n",
    "    samples = []\n",
    "    for i in range(10000):\n",
    "        value = [-1] * n\n",
    "        flag = 1\n",
    "        for vertex in sort_vertex:\n",
    "            holder = sample_vertex(vertex, graph2[vertex], value, sort_vertex, probability)\n",
    "            if evidence[vertex] != -1 and holder != evidence[vertex]:\n",
    "                flag = 0\n",
    "                break\n",
    "            value[vertex] = holder\n",
    "        if flag == 1:\n",
    "            samples.append(value)\n",
    "    good_sample = 0\n",
    "    for sample in samples:\n",
    "        flag = 1\n",
    "        for i in range(len(nodes)):\n",
    "            if bool(values[i]) != sample[nodes[i]]:\n",
    "                flag = 0\n",
    "                break\n",
    "        if flag == 1:\n",
    "            good_sample += 1\n",
    "    return good_sample / len(samples)"
   ]
  },
  {
   "cell_type": "markdown",
   "metadata": {
    "collapsed": false,
    "pycharm": {
     "name": "#%% md\n"
    }
   },
   "source": [
    "## 3. Likelihood Sampling"
   ]
  },
  {
   "cell_type": "code",
   "execution_count": 86,
   "metadata": {
    "collapsed": false,
    "pycharm": {
     "name": "#%%\n"
    }
   },
   "outputs": [],
   "source": [
    "def find_row(cpt, values):\n",
    "    holder_row = {}\n",
    "    for row in cpt:\n",
    "        flag = 1\n",
    "        for key in row.keys():\n",
    "            if key != 'Prob' and values[key] != -1 and row[key] != values[key]:\n",
    "                flag = 0\n",
    "                break\n",
    "        if flag == 1:\n",
    "            holder_row = row.copy()\n",
    "            break\n",
    "    return holder_row['Prob']"
   ]
  },
  {
   "cell_type": "code",
   "execution_count": 87,
   "metadata": {
    "collapsed": false,
    "pycharm": {
     "name": "#%%\n"
    }
   },
   "outputs": [],
   "source": [
    "def likelihood_sample(evidence, nodes, values, probability, n, graph, graph2):\n",
    "    sort_vertex = topological_sort(graph)\n",
    "    samples = []\n",
    "    for i in range(10000):\n",
    "        value = [-1] * n\n",
    "        w = 1\n",
    "        for vertex in sort_vertex:\n",
    "            if evidence[vertex] == -1:\n",
    "                value[vertex] = sample_vertex(vertex, graph2[vertex], value, sort_vertex, probability)\n",
    "            else:\n",
    "                value[vertex] = evidence[vertex]\n",
    "                w *= find_row(probability[vertex], value)\n",
    "        samples.append([value, w])\n",
    "    good_sample = 0\n",
    "    sum_sample = 0\n",
    "    for sample in samples:\n",
    "        flag = 1\n",
    "        for i in range(len(nodes)):\n",
    "            if bool(values[i]) != sample[0][nodes[i]]:\n",
    "                flag = 0\n",
    "                break\n",
    "        sum_sample += sample[1]\n",
    "        if flag == 1:\n",
    "            good_sample += sample[1]\n",
    "    return good_sample / sum_sample"
   ]
  },
  {
   "cell_type": "markdown",
   "metadata": {
    "collapsed": false,
    "pycharm": {
     "name": "#%% md\n"
    }
   },
   "source": [
    "## 4. Gibbs Sampling"
   ]
  },
  {
   "cell_type": "code",
   "execution_count": 88,
   "metadata": {
    "collapsed": false,
    "pycharm": {
     "name": "#%%\n"
    }
   },
   "outputs": [],
   "source": [
    "def gibbs_sample(evidence, nodes, values, probability, n, graph, graph2):\n",
    "    sort_vertex = topological_sort(graph)\n",
    "    samples = []\n",
    "    value = [-1] * n\n",
    "    for i in range(n):\n",
    "        if evidence[i] != -1:\n",
    "            value[i] = evidence[i]\n",
    "        else:\n",
    "            if np.random.random() < 0.5:\n",
    "                value[i] = True\n",
    "            else:\n",
    "                value[i] = False\n",
    "    for i in range(10000):\n",
    "        new_value = [-1] * n\n",
    "        for vertex in sort_vertex:\n",
    "            if evidence[vertex] == -1:\n",
    "                value[vertex] = -1\n",
    "                value[vertex] = sample_vertex(vertex, graph2[vertex], value, sort_vertex, probability)\n",
    "                new_value[vertex] = value[vertex]\n",
    "            else:\n",
    "                new_value[vertex] = value[vertex]\n",
    "        samples.append(new_value)\n",
    "    good_sample = 0\n",
    "    for sample in samples:\n",
    "        flag = 1\n",
    "        for i in range(len(nodes)):\n",
    "            if bool(values[i]) != sample[nodes[i]]:\n",
    "                flag = 0\n",
    "                break\n",
    "        if flag == 1:\n",
    "            good_sample += 1\n",
    "    return good_sample / len(samples)"
   ]
  },
  {
   "cell_type": "markdown",
   "metadata": {
    "collapsed": false,
    "pycharm": {
     "name": "#%% md\n"
    }
   },
   "source": [
    "## Execution"
   ]
  },
  {
   "cell_type": "code",
   "execution_count": 89,
   "metadata": {
    "collapsed": false,
    "pycharm": {
     "name": "#%%\n"
    }
   },
   "outputs": [
    {
     "name": "stdout",
     "output_type": "stream",
     "text": [
      "File Already Exist!\n"
     ]
    }
   ],
   "source": [
    "try:\n",
    "    os.mkdir(OUT_PATH)\n",
    "except OSError as error:\n",
    "    print(\"File Already Exist!\")\n",
    "\n",
    "length = len([name for name in os.listdir(IN_PATH)])"
   ]
  },
  {
   "cell_type": "code",
   "execution_count": 90,
   "metadata": {
    "collapsed": false,
    "pycharm": {
     "name": "#%%\n"
    }
   },
   "outputs": [
    {
     "data": {
      "image/png": "[encoded data removed]",
      "text/plain": [
       "<Figure size 432x288 with 1 Axes>"
      ]
     },
     "metadata": {
      "needs_background": "light"
     },
     "output_type": "display_data"
    },
    {
     "data": {
      "image/png": "[encoded data removed]",
      "text/plain": [
       "<Figure size 432x288 with 1 Axes>"
      ]
     },
     "metadata": {
      "needs_background": "light"
     },
     "output_type": "display_data"
    },
    {
     "data": {
      "image/png": "[encoded data removed]",
      "text/plain": [
       "<Figure size 432x288 with 1 Axes>"
      ]
     },
     "metadata": {
      "needs_background": "light"
     },
     "output_type": "display_data"
    }
   ],
   "source": [
    "for o in range(1, length + 1):\n",
    "    path = os.path.join(IN_PATH, str(o) + \"\\input.txt\")\n",
    "    file = open(path, 'r')\n",
    "    n = int(file.readline())\n",
    "    names = {}\n",
    "    probability = []\n",
    "    graph3 = []\n",
    "    graph2 = []\n",
    "    graph1 = []\n",
    "    for i in range(n):\n",
    "        graph1.append([])\n",
    "        graph2.append([])\n",
    "        graph3.append([])\n",
    "    for i in range(n):\n",
    "        data = file.readline()\n",
    "        data = data.strip('\\n')\n",
    "        data = data.rstrip()\n",
    "        names[data] = i\n",
    "        data = file.readline()\n",
    "        data = data.strip('\\n')\n",
    "        data = data.rstrip()\n",
    "        if 47 < ord(data[0]) < 58:\n",
    "            cpt = []\n",
    "            row = {i: True, 'Prob': float(data)}\n",
    "            cpt.append(row)\n",
    "            row = {i: False, 'Prob': 1 - float(data)}\n",
    "            cpt.append(row)\n",
    "            probability.append(cpt)\n",
    "        else:\n",
    "            parents = [x for x in data.split(\" \")]\n",
    "            for parent in parents:\n",
    "                graph3[i].append(parent)\n",
    "            cpt = []\n",
    "            for j in range(2 ** (len(parents))):\n",
    "                read = file.readline()\n",
    "                read = read.strip('\\n')\n",
    "                read = read.rstrip()\n",
    "                data = [float(x) for x in read.split(\" \")]\n",
    "                row = {i: True, 'Prob': data[len(data) - 1]}\n",
    "                for k in range(len(parents)):\n",
    "                    row[parents[k]] = bool(data[k])\n",
    "                cpt.append(row)\n",
    "                row2 = row.copy()\n",
    "                row2[i] = False\n",
    "                row2['Prob'] = 1 - row2[\"Prob\"]\n",
    "                cpt.append(row2)\n",
    "            probability.append(cpt)\n",
    "\n",
    "    for i in range(n):\n",
    "        for node in graph3[i]:\n",
    "            graph1[names[node]].append(i)\n",
    "            graph2[i].append(names[node])\n",
    "\n",
    "    new_probability = []\n",
    "    for cpt in probability:\n",
    "        new_cpt = []\n",
    "        for row in cpt:\n",
    "            new_row = {}\n",
    "            for key in row.keys():\n",
    "                if key in names.keys():\n",
    "                    new_row[names[key]] = row[key]\n",
    "                else:\n",
    "                    new_row[key] = row[key]\n",
    "            new_cpt.append(new_row)\n",
    "        new_probability.append(new_cpt)\n",
    "\n",
    "    file.close()\n",
    "\n",
    "    path = os.path.join(IN_PATH, str(o) + \"\\q_input.txt\")\n",
    "    file = open(path, 'r')\n",
    "    data = file.readline()\n",
    "    x = json.loads(data)\n",
    "\n",
    "    result_string = \"\"\n",
    "\n",
    "    prior = []\n",
    "    reject = []\n",
    "    likelihood = []\n",
    "    gibbs = []\n",
    "\n",
    "    for query in x:\n",
    "        node_data = query[0]\n",
    "        evidence_data = query[1]\n",
    "        evidence = [-1] * n\n",
    "        nodes = []\n",
    "        values = []\n",
    "        for key in evidence_data.keys():\n",
    "            evidence[names[key]] = bool(evidence_data[key])\n",
    "        for key in node_data.keys():\n",
    "            nodes.append(names[key])\n",
    "            values.append(node_data[key])\n",
    "\n",
    "        result_real = real_value(evidence, new_probability.copy(), nodes, values, graph2)\n",
    "        result_prior_sample = prior_sample(evidence, nodes, values, new_probability, n, graph1, graph2)\n",
    "        result_rejection_sample = rejection_sample(evidence, nodes, values, new_probability, n, graph1, graph2)\n",
    "        result_likelihood_sample = likelihood_sample(evidence, nodes, values, new_probability, n, graph1, graph2)\n",
    "        result_gibbs_sample = gibbs_sample(evidence, nodes, values, new_probability, n, graph1, graph2)\n",
    "\n",
    "        ae_prior = abs(result_prior_sample - result_real)\n",
    "        ae_rejection = abs(result_rejection_sample - result_real)\n",
    "        ae_likelihood = abs(result_likelihood_sample - result_real)\n",
    "        ae_gibbs = abs(result_gibbs_sample - result_real)\n",
    "\n",
    "        result_string += str(result_real) + \" \" + str(ae_prior) + \" \" + str(ae_rejection) + \" \" + str(ae_likelihood) + \" \" + str(ae_gibbs) + \"\\n\"\n",
    "\n",
    "        prior.append(ae_prior)\n",
    "        reject.append(ae_rejection)\n",
    "        likelihood.append(ae_likelihood)\n",
    "        gibbs.append(ae_gibbs)\n",
    "\n",
    "    file.close()\n",
    "\n",
    "    path = os.path.join(OUT_PATH, str(o) + \".txt\")\n",
    "    file = open(path, 'w')\n",
    "    file.write(result_string)\n",
    "    file.close()\n",
    "\n",
    "    draw_plot(prior, reject, likelihood, gibbs, \"Graph\" + str(o), o)"
   ]
  }
 ],
 "metadata": {
  "colab": {
   "provenance": []
  },
  "kernelspec": {
   "display_name": "base",
   "language": "python",
   "name": "python3"
  },
  "language_info": {
   "codemirror_mode": {
    "name": "ipython",
    "version": 3
   },
   "file_extension": ".py",
   "mimetype": "text/x-python",
   "name": "python",
   "nbconvert_exporter": "python",
   "pygments_lexer": "ipython3",
   "version": "3.9.12"
  },
  "vscode": {
   "interpreter": {
    "hash": "2e4dbacae6f9f62ec528599edecff1b6a23b09883777745ba6a8169f9aa74869"
   }
  }
 },
 "nbformat": 4,
 "nbformat_minor": 0
}
